{
  "cells": [
    {
      "cell_type": "code",
      "execution_count": 1,
      "metadata": {
        "id": "UE5tAJ0hsE-w"
      },
      "outputs": [],
      "source": [
        "import os\n",
        "import numpy as np\n",
        "import pandas as pd\n",
        "import matplotlib.pyplot as plt\n",
        "import seaborn as sns\n",
        "import plotly.express as px"
      ]
    },
    {
      "cell_type": "code",
      "source": [
        "import torch\n",
        "import torch.nn as nn\n",
        "import torch.nn.functional as F\n",
        "from sklearn.model_selection import LeaveOneGroupOut, KFold\n",
        "from torch.utils.data import DataLoader, Dataset, TensorDataset"
      ],
      "metadata": {
        "id": "y9eYam39gwRF"
      },
      "execution_count": 2,
      "outputs": []
    },
    {
      "cell_type": "code",
      "source": [
        "from google.colab import drive\n",
        "drive.mount('/content/drive')"
      ],
      "metadata": {
        "colab": {
          "base_uri": "https://localhost:8080/"
        },
        "id": "tOZBd4VEZKaa",
        "outputId": "9bdef249-b09d-4fca-8531-494e9e509497"
      },
      "execution_count": 3,
      "outputs": [
        {
          "output_type": "stream",
          "name": "stdout",
          "text": [
            "Mounted at /content/drive\n"
          ]
        }
      ]
    },
    {
      "cell_type": "code",
      "source": [
        "# Define folders containing the CSV files\n",
        "folder = '/content/drive/MyDrive/train_data_windows.npz'"
      ],
      "metadata": {
        "id": "_0Ix4quzZbmj"
      },
      "execution_count": 4,
      "outputs": []
    },
    {
      "cell_type": "code",
      "source": [
        "# Extract test windows and labels\n",
        "loaded_data = np.load(folder)\n",
        "loaded_train_windows_data = loaded_data['train_windows']\n",
        "loaded_train_labels_data = loaded_data['train_labels']"
      ],
      "metadata": {
        "id": "0U7w9ABYhCtI"
      },
      "execution_count": 5,
      "outputs": []
    },
    {
      "cell_type": "code",
      "source": [
        "loaded_train_labels_data"
      ],
      "metadata": {
        "colab": {
          "base_uri": "https://localhost:8080/"
        },
        "id": "YAmVIe9sK91R",
        "outputId": "7c27190c-5898-45c6-a7dc-c79fbfa68872"
      },
      "execution_count": 6,
      "outputs": [
        {
          "output_type": "execute_result",
          "data": {
            "text/plain": [
              "array([2, 2, 2, ..., 2, 2, 2])"
            ]
          },
          "metadata": {},
          "execution_count": 6
        }
      ]
    },
    {
      "cell_type": "code",
      "source": [
        "transformed_labels = np.where(loaded_train_labels_data == 1, 0, 1)"
      ],
      "metadata": {
        "id": "lmr5PAoiK0Gg"
      },
      "execution_count": 7,
      "outputs": []
    },
    {
      "cell_type": "code",
      "source": [
        "transformed_labels"
      ],
      "metadata": {
        "colab": {
          "base_uri": "https://localhost:8080/"
        },
        "id": "2oJqmDz1K8n0",
        "outputId": "af7d2df0-e31d-46f5-a308-b7ec8eee4ed9"
      },
      "execution_count": 8,
      "outputs": [
        {
          "output_type": "execute_result",
          "data": {
            "text/plain": [
              "array([1, 1, 1, ..., 1, 1, 1])"
            ]
          },
          "metadata": {},
          "execution_count": 8
        }
      ]
    },
    {
      "cell_type": "code",
      "source": [
        "X_tensor = torch.tensor(loaded_train_windows_data, dtype=torch.float32)\n",
        "y_tensor = torch.tensor(transformed_labels, dtype=torch.int32)"
      ],
      "metadata": {
        "id": "9jeYWLbuhc0F"
      },
      "execution_count": 9,
      "outputs": []
    },
    {
      "cell_type": "code",
      "source": [
        "# Define your dataset\n",
        "class HandWashDataset(Dataset):\n",
        "    def __init__(self, X, y):\n",
        "        self.X = X\n",
        "        self.y = y\n",
        "\n",
        "    def __len__(self):\n",
        "        return len(self.X)\n",
        "\n",
        "    def __getitem__(self, idx):\n",
        "        return self.X[idx], self.y[idx]"
      ],
      "metadata": {
        "id": "7yiK-w2Ghqju"
      },
      "execution_count": 10,
      "outputs": []
    },
    {
      "cell_type": "code",
      "source": [
        "# Define the Transformer-based model\n",
        "class InertialTransformer(nn.Module):\n",
        "    def __init__(self, num_features, seq_len, num_classes=1):\n",
        "        super(InertialTransformer, self).__init__()\n",
        "        self.conv1d = nn.Conv1d(in_channels=num_features, out_channels=64, kernel_size=5)\n",
        "        self.transformer_encoder = nn.TransformerEncoder(\n",
        "        nn.TransformerEncoderLayer(d_model=64, nhead=8), num_layers=6)\n",
        "        self.classifier = nn.Sequential(\n",
        "            nn.Linear(9344, 64),\n",
        "            nn.GELU(),\n",
        "            nn.Dropout(0.1),\n",
        "            nn.Linear(64, 1)\n",
        "        )\n",
        "\n",
        "    def forward(self, x):\n",
        "        #print(\"start\")\n",
        "        #print(x.shape)\n",
        "        x = x.permute(0, 2, 1)\n",
        "        x = self.conv1d(x)\n",
        "        #print(\"conv\")\n",
        "        #print(x.shape)\n",
        "        x = x.permute(2, 1, 0)  # Reshape for transformer\n",
        "        x = self.transformer_encoder(x)\n",
        "        #print(\"transformer\")\n",
        "        #print(x.shape)\n",
        "        x = x.permute(1, 0, 2)\n",
        "        #print(x.shape)\n",
        "        x = x.flatten(1)  # Flatten for classifier\n",
        "        #print(\"flatten\")\n",
        "        #print(x.shape)\n",
        "        #x = x.transpose(1,0)\n",
        "        #print(\"transpose\")\n",
        "        #print(x.shape)\n",
        "        x = self.classifier(x)\n",
        "        #print(\"classifier\")\n",
        "        #print(x.shape)\n",
        "        #print(x)\n",
        "        return x.squeeze()"
      ],
      "metadata": {
        "id": "bLr7rD8ahfRD"
      },
      "execution_count": 11,
      "outputs": []
    },
    {
      "cell_type": "code",
      "source": [
        "\n",
        "kf = KFold(n_splits=2)\n",
        "#for train_index, test_index in kf.split(X_tensor):\n",
        "for fold, (train_index, val_index) in enumerate(kf.split(X_tensor)):\n",
        "\n",
        "    X_train, X_test = X_tensor[train_index], X_tensor[val_index]\n",
        "    y_train, y_test = y_tensor[train_index], y_tensor[val_index]\n",
        "\n",
        "    train_loader = DataLoader(HandWashDataset(X_train, y_train), batch_size=64, shuffle=False)\n",
        "    test_loader = DataLoader(HandWashDataset(X_test, y_test), batch_size=64, shuffle=False)\n",
        "\n",
        "\n",
        "    model = InertialTransformer(num_features=6, seq_len=150, num_classes=2)\n",
        "    criterion = nn.BCELoss()\n",
        "    optimizer = torch.optim.Adam(model.parameters(), lr=1e-4, weight_decay=1e-4, betas=(0.9, 0.999))\n",
        "\n",
        "    # Training\n",
        "    for epoch in range(5):\n",
        "        for inputs, labels in train_loader:\n",
        "            tensor_size = torch.Size([64, 150, 6])\n",
        "            if inputs.size() != tensor_size:\n",
        "              print(\"reached end\")\n",
        "              break\n",
        "            optimizer.zero_grad()\n",
        "            outputs = model(inputs)\n",
        "            outputs = outputs.unsqueeze(1)\n",
        "            predicted_probabilities = torch.sigmoid(outputs).round()\n",
        "            #print(predicted_probabilities)\n",
        "            #outputs = outputs.unsqueeze(1)\n",
        "            labels = labels.unsqueeze(1)\n",
        "            #print(labels)\n",
        "            #probabilities = torch.sigmoid(outputs)  # Apply sigmoid to get probabilities\n",
        "            #predictions = (probabilities > 0.5).int()  # Convert to 0 and 1\n",
        "            #print(\"model outputs\")\n",
        "            loss = criterion(predicted_probabilities, labels.float())\n",
        "            #print(loss)\n",
        "            loss.backward()\n",
        "            optimizer.step()\n",
        "\n",
        "        print(f\"Fold {fold + 1}, Epoch {epoch + 1}, Loss: {loss.item()}\")\n",
        "\n",
        "    model.eval()\n",
        "    total, correct = 0, 0\n",
        "    with torch.no_grad():\n",
        "      for data, labels in test_loader:\n",
        "        tensor_size = torch.Size([64, 150, 6])\n",
        "        if data.size() != tensor_size:\n",
        "          print(\"tes end\")\n",
        "          break\n",
        "        outputs = model(data)\n",
        "        outputs = outputs.unsqueeze(1)\n",
        "        predictions = torch.sigmoid(outputs).round() # Apply sigmoid and round to get binary class\n",
        "        total += labels.size(0)\n",
        "        correct += (predictions.squeeze(1) == labels).sum().item()\n",
        "\n",
        "    accuracy = correct / total\n",
        "    print(f\"Accuracy: {accuracy * 100:.2f}%\")"
      ],
      "metadata": {
        "colab": {
          "base_uri": "https://localhost:8080/"
        },
        "id": "w6O-4veShjA8",
        "outputId": "4d41a9c3-8c2d-451a-8212-21ad9ef0ce6e"
      },
      "execution_count": 19,
      "outputs": [
        {
          "output_type": "stream",
          "name": "stdout",
          "text": [
            "reached end\n",
            "Fold 1, Epoch 1, Loss: 10.9375\n",
            "reached end\n",
            "Fold 1, Epoch 2, Loss: 9.375\n",
            "reached end\n",
            "Fold 1, Epoch 3, Loss: 4.6875\n",
            "reached end\n",
            "Fold 1, Epoch 4, Loss: 4.6875\n",
            "reached end\n",
            "Fold 1, Epoch 5, Loss: 4.6875\n",
            "tes end\n",
            "Accuracy: 93.61%\n",
            "reached end\n",
            "Fold 2, Epoch 1, Loss: 18.75\n",
            "reached end\n",
            "Fold 2, Epoch 2, Loss: 25.0\n",
            "reached end\n",
            "Fold 2, Epoch 3, Loss: 29.6875\n",
            "reached end\n",
            "Fold 2, Epoch 4, Loss: 45.3125\n",
            "reached end\n",
            "Fold 2, Epoch 5, Loss: 62.5\n",
            "tes end\n",
            "Accuracy: 14.06%\n"
          ]
        }
      ]
    }
  ],
  "metadata": {
    "colab": {
      "provenance": []
    },
    "kernelspec": {
      "display_name": "Python 3",
      "name": "python3"
    },
    "language_info": {
      "codemirror_mode": {
        "name": "ipython",
        "version": 3
      },
      "file_extension": ".py",
      "mimetype": "text/x-python",
      "name": "python",
      "nbconvert_exporter": "python",
      "pygments_lexer": "ipython3",
      "version": "3.9.18"
    }
  },
  "nbformat": 4,
  "nbformat_minor": 0
}